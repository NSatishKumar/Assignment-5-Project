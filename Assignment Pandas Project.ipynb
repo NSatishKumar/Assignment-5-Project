{
 "cells": [
  {
   "cell_type": "markdown",
   "metadata": {},
   "source": [
    "## 1. Write a program in Python with one class called Cipher. \n",
    "                           Within the constructor of this class, ask user for a string \n",
    "                           and store it. Use a static variable, key to store a randomly \n",
    "                           generated integer between 1 and 50 inclusive. Implement \n",
    "                           two methods, encrypt and decrypt within this class. Encrypt \n",
    "                           generates and prints a cipher text using the user-entered \n",
    "                           string and the key and decrypt generates decrypted string \n",
    "                           from ciphertext. The cipher only encrypts alpha and \n",
    "                            numeric (A-Z, a-z, 0-9). All Symbols, such as - , ; %, remain \n",
    "                            unencrypted. The cipher text can have special characters. \n",
    "                            Use generator expression to filter out alpha and numeric \n",
    "                           characters of the input string and to generate cipher text. \n",
    "                           Create an instance of this class, encrypt and decrypt back \n",
    "                           the user entered string. "
   ]
  },
  {
   "cell_type": "code",
   "execution_count": 6,
   "metadata": {},
   "outputs": [
    {
     "name": "stdout",
     "output_type": "stream",
     "text": [
      "Enter the input text which needs to be encrypted: This 12 >:\"? is CIPHER text 890\n",
      "Key Value used in Encryption:  6\n",
      "\n",
      "Cipher text:  Znoy 78 >:\"? oy IOVNKX zk3z EF6\n",
      "\n",
      "Key Value used in Decryption:  6\n",
      "\n",
      "decrypt text:  This 12 >:\"? is CIPHER text 890\n"
     ]
    }
   ],
   "source": [
    "# In the below program, Encryption and decrytion is done by taking inputs from caesar cipher algorithm \n",
    "\n",
    "import random\n",
    "class Cipher:                                                                       # Defining Cipher class\n",
    "    keyval=random.sample(range(1,51),1)                                             # Declaring the variable key\n",
    "    \n",
    "    def __init__(self):                                                             # Defining the constructor function\n",
    "        self.inputText=input(\"Enter the input text which needs to be encrypted: \")  # Asking user to enter input text\n",
    "        self.encryptText=\"\"                                                         # Declaring the encrypt and decrypt variables\n",
    "        self.decryptText=\"\"\n",
    "    \n",
    "    def encrypt(self):                                                # Defining the Encrypt function\n",
    "        cipherTextlist=[]\n",
    "        key=Cipher.keyval[0]                                          # converting keyval from list to int\n",
    "        print(\"Key Value used in Encryption: \", key)\n",
    "        for c in self.encryptGenFunc(self.inputText,key):             # calling the encrypt generator function to generate cipher text\n",
    "            cipherTextlist.append(c)\n",
    "        for val in cipherTextlist:                                    # looping through the list and storing the encrypt string\n",
    "            self.encryptText=self.encryptText+val\n",
    "        print(\"\\nCipher text: \",self.encryptText)\n",
    "        \n",
    "    def encryptGenFunc(self,inputText,key):                           # Defining the Encrypt Generation function\n",
    "        UpperalphaList=\"ABCDEFGHIJKLMNOPQRSTUVWXYZ\"                   # Storing all uppercase alphabets\n",
    "        loweralphalist=UpperalphaList.swapcase()                      # Storing all lowercase alphabets\n",
    "        numList=\"0123456789\"                                          # Storing 0 to 9 numbers\n",
    "        totalList=UpperalphaList+loweralphalist+numList               # combining uppercase, lowercase alphabets and 0 to 9\n",
    "        for ch in inputText:                                          # Looping each character of input text\n",
    "            asciiVal=ord(ch)                                          # Generating the ASCII value\n",
    "            if((asciiVal<48)or(asciiVal>57 and asciiVal < 65)or(asciiVal>90 and asciiVal<97)or(asciiVal>122)):\n",
    "                yield ch                                      # In 'if' condition checking whether it is special character or not\n",
    "            else:\n",
    "                if(ch in totalList):                          # checking whether it is a alphabet(Upper/lower) or number(0-9)\n",
    "                    indexval=totalList.index(ch)              # string index value is considered as unique value for each character in totalList variable.\n",
    "                    cipChVal=(indexval+key) % 62              # Adding key value to indexval and mod division by 62 because length of totalList variable is 62\n",
    "                    cipChar=totalList[cipChVal]               # storing the new mapped value from the TotalList variable\n",
    "                    yield cipChar\n",
    "    \n",
    "    def decrypt(self):                                           # Defining the decryption function\n",
    "        decryptlist=[]\n",
    "        key=Cipher.keyval[0]\n",
    "        print(\"\\nKey Value used in Decryption: \",key)\n",
    "        for c in self.decryptGenFunc(self.encryptText,key):      # calling the Decrypt Generator function to generate plain text\n",
    "            decryptlist.append(c)\n",
    "        for val in decryptlist:                                  # looping through the list and storing the decrypt string\n",
    "            self.decryptText=self.decryptText+val\n",
    "        print(\"\\ndecrypt text: \",self.decryptText)\n",
    "    \n",
    "    def decryptGenFunc(self,cipherText,key):                          # Defining the Decrypt Generation function\n",
    "        UpperalphaList=\"ABCDEFGHIJKLMNOPQRSTUVWXYZ\"\n",
    "        loweralphalist=UpperalphaList.swapcase()\n",
    "        numList=\"0123456789\"\n",
    "        totalList=UpperalphaList+loweralphalist+numList               # combining uppercase, lowercase alphabets and 0 to 9\n",
    "        for ch in cipherText:                                         # Looping each character of input text\n",
    "            asciiVal=ord(ch)                                          # Generating the ASCII value\n",
    "            if((asciiVal<48)or(asciiVal>57 and asciiVal < 65)or(asciiVal>90 and asciiVal<97)or(asciiVal>122)):\n",
    "                yield ch                                      # in If condition checking whether it is special character or not\n",
    "            else:\n",
    "                if(ch in totalList):                          # checking whether it is a alphabet(Upper/lower) or number(0-9)\n",
    "                    indexval=totalList.index(ch)              # string index value is considered as unique value for each character in totalList variable.\n",
    "                    plainTxtChVal=(indexval-key) % 62         # Adding key value to indexval and mod division by 62 because length of totalList variable is 62\n",
    "                    plainTxtChar=totalList[plainTxtChVal]     # storing the new mapped value from the TotalList variable\n",
    "                    yield plainTxtChar\n",
    "                \n",
    "objCip=Cipher()                                          # Creating an object for the class\n",
    "objCip.encrypt()                                         # Calling the Encrypt function using the object\n",
    "objCip.decrypt()                                         # Calling the Decrypt function using the object\n",
    "   "
   ]
  },
  {
   "cell_type": "markdown",
   "metadata": {},
   "source": [
    "In Caesar Cipher Algorithm, every letter is denoted by a single number. Later it is used while generating ciper text. \n",
    "Similarly, in above program, we are using each character index of TotalList variable(consists of alphabets and numbers) for denoting each letter and later it is used in generation of Cipher text.\n",
    "\n",
    "Cipher Text= (Indexvalue + Key) % 62\n",
    "Plain Text= (Indexvalue - Key) % 62\n",
    "\n",
    "We are calculating modulus by 62, because the total number of characters considered are 62.\n",
    "Upper case Alphabets = 26\n",
    "Lower case Alphabets = 26\n",
    "Numbers 0 to 9       = 10\n",
    "Total                = 62\n"
   ]
  },
  {
   "cell_type": "code",
   "execution_count": null,
   "metadata": {},
   "outputs": [],
   "source": []
  }
 ],
 "metadata": {
  "kernelspec": {
   "display_name": "Python 3",
   "language": "python",
   "name": "python3"
  },
  "language_info": {
   "codemirror_mode": {
    "name": "ipython",
    "version": 3
   },
   "file_extension": ".py",
   "mimetype": "text/x-python",
   "name": "python",
   "nbconvert_exporter": "python",
   "pygments_lexer": "ipython3",
   "version": "3.7.0"
  }
 },
 "nbformat": 4,
 "nbformat_minor": 2
}
